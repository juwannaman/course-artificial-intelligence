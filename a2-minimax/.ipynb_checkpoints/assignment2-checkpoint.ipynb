{
 "cells": [
  {
   "cell_type": "code",
   "execution_count": 2,
   "metadata": {
    "collapsed": false
   },
   "outputs": [
    {
     "name": "stdout",
     "output_type": "stream",
     "text": [
      "Pacman died! Score: -485\n",
      "Average Score: -485.0\n",
      "Scores:        -485.0\n",
      "Win Rate:      0/1 (0.00)\n",
      "Record:        Loss\n"
     ]
    }
   ],
   "source": [
    "%run pacman.py -p ReflexAgent -l testClassic"
   ]
  },
  {
   "cell_type": "code",
   "execution_count": 3,
   "metadata": {
    "collapsed": false
   },
   "outputs": [
    {
     "name": "stdout",
     "output_type": "stream",
     "text": [
      "Pacman died! Score: 324\n",
      "Average Score: 324.0\n",
      "Scores:        324.0\n",
      "Win Rate:      0/1 (0.00)\n",
      "Record:        Loss\n"
     ]
    }
   ],
   "source": [
    "%run pacman.py --frameTime 0 -p ReflexAgent -k 1"
   ]
  },
  {
   "cell_type": "code",
   "execution_count": 4,
   "metadata": {
    "collapsed": false
   },
   "outputs": [
    {
     "name": "stdout",
     "output_type": "stream",
     "text": [
      "Pacman died! Score: -338\n",
      "Average Score: -338.0\n",
      "Scores:        -338.0\n",
      "Win Rate:      0/1 (0.00)\n",
      "Record:        Loss\n"
     ]
    }
   ],
   "source": [
    "%run pacman.py --frameTime 0 -p ReflexAgent -k 2"
   ]
  },
  {
   "cell_type": "code",
   "execution_count": 43,
   "metadata": {
    "collapsed": false
   },
   "outputs": [],
   "source": [
    "%run pacman.py -p ReflexAgent -l testClassic"
   ]
  },
  {
   "cell_type": "code",
   "execution_count": 5,
   "metadata": {
    "collapsed": false
   },
   "outputs": [
    {
     "data": {
      "text/plain": [
       "(array([], dtype=int64),)"
      ]
     },
     "execution_count": 5,
     "metadata": {},
     "output_type": "execute_result"
    }
   ],
   "source": [
    "import numpy as np\n",
    "a = [[1, False, True],[False, False, True]]\n",
    "np.where(a == 1)"
   ]
  },
  {
   "cell_type": "code",
   "execution_count": 2,
   "metadata": {
    "collapsed": false
   },
   "outputs": [
    {
     "data": {
      "text/plain": [
       "3"
      ]
     },
     "execution_count": 2,
     "metadata": {},
     "output_type": "execute_result"
    }
   ],
   "source": [
    "a = [1,2]\n",
    "sum(a)"
   ]
  },
  {
   "cell_type": "code",
   "execution_count": 1,
   "metadata": {
    "collapsed": false
   },
   "outputs": [
    {
     "name": "stdout",
     "output_type": "stream",
     "text": [
      "Pacman emerges victorious! Score: 546\n",
      "Average Score: 546.0\n",
      "Scores:        546.0\n",
      "Win Rate:      1/1 (1.00)\n",
      "Record:        Win\n"
     ]
    }
   ],
   "source": [
    "%run pacman.py -p ReflexAgent -l testClassic"
   ]
  },
  {
   "cell_type": "code",
   "execution_count": 7,
   "metadata": {
    "collapsed": false
   },
   "outputs": [
    {
     "name": "stdout",
     "output_type": "stream",
     "text": [
      "Starting on 4-18 at 14:38:51\n",
      "\n",
      "Question q1\n",
      "===========\n",
      "\n",
      "Pacman emerges victorious! Score: 1269\n",
      "Pacman emerges victorious! Score: 1043\n",
      "Pacman emerges victorious! Score: 816\n",
      "Pacman emerges victorious! Score: 1198\n",
      "Pacman emerges victorious! Score: 962\n",
      "Pacman emerges victorious! Score: 1143\n",
      "Pacman emerges victorious! Score: 1266\n",
      "Pacman emerges victorious! Score: 1285\n",
      "Pacman emerges victorious! Score: 556\n",
      "Pacman emerges victorious! Score: 945\n",
      "Average Score: 1048.3\n",
      "Scores:        1269.0, 1043.0, 816.0, 1198.0, 962.0, 1143.0, 1266.0, 1285.0, 556.0, 945.0\n",
      "Win Rate:      10/10 (1.00)\n",
      "Record:        Win, Win, Win, Win, Win, Win, Win, Win, Win, Win\n",
      "*** PASS: test_cases/q1/grade-agent.test (3 of 3 points)\n",
      "***     1048.3 average score (2 of 2 points)\n",
      "***         Grading scheme:\n",
      "***          < 500:  0 points\n",
      "***         >= 500:  1 points\n",
      "***         >= 1000:  2 points\n",
      "***     10 games not timed out (0 of 0 points)\n",
      "***         Grading scheme:\n",
      "***          < 10:  fail\n",
      "***         >= 10:  0 points\n",
      "***     10 wins (1 of 1 points)\n",
      "***         Grading scheme:\n",
      "***          < 1:  fail\n",
      "***         >= 1:  0 points\n",
      "***         >= 5:  1 points\n",
      "\n",
      "### Question q1: 3/3 ###\n",
      "\n",
      "\n",
      "Finished at 14:39:03\n",
      "\n",
      "Provisional grades\n",
      "==================\n",
      "Question q1: 3/3\n",
      "------------------\n",
      "Total: 3/3\n",
      "\n",
      "Your grades are NOT yet registered.  To register your grades, make sure\n",
      "to follow your instructor's guidelines to receive credit on your project.\n",
      "\n",
      "Thanks.\n",
      "\n"
     ]
    }
   ],
   "source": [
    "%run autograder.py -q q1 --no-graphics"
   ]
  },
  {
   "cell_type": "code",
   "execution_count": 12,
   "metadata": {
    "collapsed": false
   },
   "outputs": [
    {
     "name": "stdout",
     "output_type": "stream",
     "text": [
      "Pacman died! Score: -157\n",
      "Average Score: -157.0\n",
      "Scores:        -157.0\n",
      "Win Rate:      0/1 (0.00)\n",
      "Record:        Loss\n"
     ]
    }
   ],
   "source": [
    "%run pacman.py --frameTime 0 -p ReflexAgent -k 2"
   ]
  },
  {
   "cell_type": "code",
   "execution_count": 3,
   "metadata": {
    "collapsed": false
   },
   "outputs": [
    {
     "name": "stdout",
     "output_type": "stream",
     "text": [
      "Starting on 4-18 at 14:14:14\n",
      "\n",
      "Question q2\n",
      "===========\n",
      "\n",
      "*** PASS: test_cases/q2/0-lecture-6-tree.test\n",
      "*** PASS: test_cases/q2/0-small-tree.test\n",
      "*** PASS: test_cases/q2/1-1-minmax.test\n",
      "*** PASS: test_cases/q2/1-2-minmax.test\n",
      "*** PASS: test_cases/q2/1-3-minmax.test\n",
      "*** PASS: test_cases/q2/1-4-minmax.test\n",
      "*** PASS: test_cases/q2/1-5-minmax.test\n",
      "*** PASS: test_cases/q2/1-6-minmax.test\n",
      "*** PASS: test_cases/q2/1-7-minmax.test\n",
      "*** PASS: test_cases/q2/1-8-minmax.test\n",
      "*** PASS: test_cases/q2/2-1a-vary-depth.test\n",
      "*** PASS: test_cases/q2/2-1b-vary-depth.test\n",
      "*** PASS: test_cases/q2/2-2a-vary-depth.test\n",
      "*** PASS: test_cases/q2/2-2b-vary-depth.test\n",
      "*** PASS: test_cases/q2/2-3a-vary-depth.test\n",
      "*** PASS: test_cases/q2/2-3b-vary-depth.test\n",
      "*** PASS: test_cases/q2/2-4a-vary-depth.test\n",
      "*** PASS: test_cases/q2/2-4b-vary-depth.test\n",
      "*** PASS: test_cases/q2/2-one-ghost-3level.test\n",
      "*** PASS: test_cases/q2/3-one-ghost-4level.test\n",
      "*** PASS: test_cases/q2/4-two-ghosts-3level.test\n",
      "*** PASS: test_cases/q2/5-two-ghosts-4level.test\n",
      "*** PASS: test_cases/q2/6-tied-root.test\n",
      "*** Running MinimaxAgent on smallClassic 1 time(s).\n",
      "Pacman died! Score: -66\n",
      "Average Score: -66.0\n",
      "Scores:        -66.0\n",
      "Win Rate:      0/1 (0.00)\n",
      "Record:        Loss\n",
      "*** Finished running MinimaxAgent on smallClassic after 1 seconds.\n",
      "*** Won 0 out of 1 games. Average score: -66.000000 ***\n",
      "*** PASS: test_cases/q2/7-pacman-game.test\n",
      "\n",
      "### Question q2: 4/4 ###\n",
      "\n",
      "\n",
      "Finished at 14:14:15\n",
      "\n",
      "Provisional grades\n",
      "==================\n",
      "Question q2: 4/4\n",
      "------------------\n",
      "Total: 4/4\n",
      "\n",
      "Your grades are NOT yet registered.  To register your grades, make sure\n",
      "to follow your instructor's guidelines to receive credit on your project.\n",
      "\n",
      "Thanks.\n",
      "\n"
     ]
    }
   ],
   "source": [
    "%run autograder.py -q q2 --no-graphics"
   ]
  },
  {
   "cell_type": "code",
   "execution_count": 2,
   "metadata": {
    "collapsed": false
   },
   "outputs": [
    {
     "name": "stdout",
     "output_type": "stream",
     "text": [
      "Pacman emerges victorious! Score: 513\n",
      "Average Score: 513.0\n",
      "Scores:        513.0\n",
      "Win Rate:      1/1 (1.00)\n",
      "Record:        Win\n"
     ]
    }
   ],
   "source": [
    "%run pacman.py -p MinimaxAgent -l minimaxClassic -a depth=4"
   ]
  },
  {
   "cell_type": "code",
   "execution_count": 2,
   "metadata": {
    "collapsed": false
   },
   "outputs": [
    {
     "data": {
      "text/plain": [
       "(2, 3)"
      ]
     },
     "execution_count": 2,
     "metadata": {},
     "output_type": "execute_result"
    }
   ],
   "source": [
    "a = (2,3)\n",
    "b = (3,2)\n",
    "max(a,b, key=lambda x: x[1])"
   ]
  },
  {
   "cell_type": "code",
   "execution_count": 6,
   "metadata": {
    "collapsed": false
   },
   "outputs": [
    {
     "data": {
      "text/plain": [
       "(3, 4)"
      ]
     },
     "execution_count": 6,
     "metadata": {},
     "output_type": "execute_result"
    }
   ],
   "source": [
    "a = 3\n",
    "b = 2\n",
    "c = 4\n",
    "d = 5\n",
    "(x,y) = (a,c) if a > b else (b,d)\n",
    "(x,y)"
   ]
  },
  {
   "cell_type": "code",
   "execution_count": 1,
   "metadata": {
    "collapsed": false
   },
   "outputs": [
    {
     "name": "stdout",
     "output_type": "stream",
     "text": [
      "Starting on 4-18 at 14:13:49\n",
      "\n",
      "Question q3\n",
      "===========\n",
      "\n",
      "*** PASS: test_cases/q3/0-lecture-6-tree.test\n",
      "*** PASS: test_cases/q3/0-small-tree.test\n",
      "*** PASS: test_cases/q3/1-1-minmax.test\n",
      "*** PASS: test_cases/q3/1-2-minmax.test\n",
      "*** PASS: test_cases/q3/1-3-minmax.test\n",
      "*** PASS: test_cases/q3/1-4-minmax.test\n",
      "*** PASS: test_cases/q3/1-5-minmax.test\n",
      "*** PASS: test_cases/q3/1-6-minmax.test\n",
      "*** PASS: test_cases/q3/1-7-minmax.test\n",
      "*** PASS: test_cases/q3/1-8-minmax.test\n",
      "*** PASS: test_cases/q3/2-1a-vary-depth.test\n",
      "*** PASS: test_cases/q3/2-1b-vary-depth.test\n",
      "*** PASS: test_cases/q3/2-2a-vary-depth.test\n",
      "*** PASS: test_cases/q3/2-2b-vary-depth.test\n",
      "*** PASS: test_cases/q3/2-3a-vary-depth.test\n",
      "*** PASS: test_cases/q3/2-3b-vary-depth.test\n",
      "*** PASS: test_cases/q3/2-4a-vary-depth.test\n",
      "*** PASS: test_cases/q3/2-4b-vary-depth.test\n",
      "*** PASS: test_cases/q3/2-one-ghost-3level.test\n",
      "*** PASS: test_cases/q3/3-one-ghost-4level.test\n",
      "*** PASS: test_cases/q3/4-two-ghosts-3level.test\n",
      "*** PASS: test_cases/q3/5-two-ghosts-4level.test\n",
      "*** PASS: test_cases/q3/6-tied-root.test\n",
      "*** Running AlphaBetaAgent on smallClassic 1 time(s).\n",
      "Pacman died! Score: -66\n",
      "Average Score: -66.0\n",
      "Scores:        -66.0\n",
      "Win Rate:      0/1 (0.00)\n",
      "Record:        Loss\n",
      "*** Finished running AlphaBetaAgent on smallClassic after 0 seconds.\n",
      "*** Won 0 out of 1 games. Average score: -66.000000 ***\n",
      "*** PASS: test_cases/q3/7-pacman-game.test\n",
      "\n",
      "### Question q3: 4/4 ###\n",
      "\n",
      "\n",
      "Finished at 14:13:50\n",
      "\n",
      "Provisional grades\n",
      "==================\n",
      "Question q3: 4/4\n",
      "------------------\n",
      "Total: 4/4\n",
      "\n",
      "Your grades are NOT yet registered.  To register your grades, make sure\n",
      "to follow your instructor's guidelines to receive credit on your project.\n",
      "\n",
      "Thanks.\n",
      "\n"
     ]
    }
   ],
   "source": [
    "%run autograder.py -q q3 --no-graphics"
   ]
  },
  {
   "cell_type": "code",
   "execution_count": 2,
   "metadata": {
    "collapsed": false
   },
   "outputs": [
    {
     "name": "stdout",
     "output_type": "stream",
     "text": [
      "Starting on 4-18 at 14:14:03\n",
      "\n",
      "Question q4\n",
      "===========\n",
      "\n",
      "*** PASS: test_cases/q4/0-expectimax1.test\n",
      "*** PASS: test_cases/q4/1-expectimax2.test\n",
      "*** PASS: test_cases/q4/2-one-ghost-3level.test\n",
      "*** PASS: test_cases/q4/3-one-ghost-4level.test\n",
      "*** PASS: test_cases/q4/4-two-ghosts-3level.test\n",
      "*** PASS: test_cases/q4/5-two-ghosts-4level.test\n",
      "*** Running ExpectimaxAgent on smallClassic 1 time(s).\n",
      "Pacman died! Score: 316\n",
      "Average Score: 316.0\n",
      "Scores:        316.0\n",
      "Win Rate:      0/1 (0.00)\n",
      "Record:        Loss\n",
      "*** Finished running ExpectimaxAgent on smallClassic after 1 seconds.\n",
      "*** Won 0 out of 1 games. Average score: 316.000000 ***\n",
      "*** PASS: test_cases/q4/6-pacman-game.test\n",
      "\n",
      "### Question q4: 4/4 ###\n",
      "\n",
      "\n",
      "Finished at 14:14:05\n",
      "\n",
      "Provisional grades\n",
      "==================\n",
      "Question q4: 4/4\n",
      "------------------\n",
      "Total: 4/4\n",
      "\n",
      "Your grades are NOT yet registered.  To register your grades, make sure\n",
      "to follow your instructor's guidelines to receive credit on your project.\n",
      "\n",
      "Thanks.\n",
      "\n"
     ]
    }
   ],
   "source": [
    "%run autograder.py -q q4 --no-graphics"
   ]
  },
  {
   "cell_type": "code",
   "execution_count": null,
   "metadata": {
    "collapsed": false
   },
   "outputs": [],
   "source": [
    "%run pacman.py --frameTime 0 -p ReflexAgent -k 4"
   ]
  },
  {
   "cell_type": "code",
   "execution_count": 10,
   "metadata": {
    "collapsed": false
   },
   "outputs": [
    {
     "name": "stdout",
     "output_type": "stream",
     "text": [
      "['ab', 'cd']\n"
     ]
    }
   ],
   "source": [
    "x = ['ab', 'cd']\n",
    "for i in x:\n",
    "    i.upper()\n",
    "print(x)"
   ]
  },
  {
   "cell_type": "code",
   "execution_count": 39,
   "metadata": {
    "collapsed": false
   },
   "outputs": [
    {
     "name": "stdout",
     "output_type": "stream",
     "text": [
      "Starting on 4-18 at 14:12:08\n",
      "\n",
      "Question q5\n",
      "===========\n",
      "\n",
      "Pacman emerges victorious! Score: 1142\n",
      "Pacman emerges victorious! Score: 1042\n",
      "Pacman emerges victorious! Score: 867\n",
      "Pacman emerges victorious! Score: 1070\n",
      "Pacman emerges victorious! Score: 1008\n",
      "Pacman emerges victorious! Score: 1096\n",
      "Pacman emerges victorious! Score: 846\n",
      "Pacman emerges victorious! Score: 1048\n",
      "Pacman emerges victorious! Score: 994\n",
      "Pacman emerges victorious! Score: 993\n",
      "Average Score: 1010.6\n",
      "Scores:        1142.0, 1042.0, 867.0, 1070.0, 1008.0, 1096.0, 846.0, 1048.0, 994.0, 993.0\n",
      "Win Rate:      10/10 (1.00)\n",
      "Record:        Win, Win, Win, Win, Win, Win, Win, Win, Win, Win\n",
      "*** PASS: test_cases/q5/grade-agent.test (5 of 5 points)\n",
      "***     1010.6 average score (2 of 2 points)\n",
      "***         Grading scheme:\n",
      "***          < 500:  0 points\n",
      "***         >= 500:  1 points\n",
      "***         >= 1000:  2 points\n",
      "***     10 games not timed out (1 of 1 points)\n",
      "***         Grading scheme:\n",
      "***          < 0:  fail\n",
      "***         >= 0:  0 points\n",
      "***         >= 10:  1 points\n",
      "***     10 wins (2 of 2 points)\n",
      "***         Grading scheme:\n",
      "***          < 1:  fail\n",
      "***         >= 1:  1 points\n",
      "***         >= 5:  2 points\n",
      "\n",
      "### Question q5: 5/5 ###\n",
      "\n",
      "\n",
      "Finished at 14:12:37\n",
      "\n",
      "Provisional grades\n",
      "==================\n",
      "Question q5: 5/5\n",
      "------------------\n",
      "Total: 5/5\n",
      "\n",
      "Your grades are NOT yet registered.  To register your grades, make sure\n",
      "to follow your instructor's guidelines to receive credit on your project.\n",
      "\n",
      "Thanks.\n",
      "\n"
     ]
    }
   ],
   "source": [
    "%run autograder.py -q q5 --no-graphics"
   ]
  },
  {
   "cell_type": "code",
   "execution_count": 8,
   "metadata": {
    "collapsed": false
   },
   "outputs": [
    {
     "name": "stdout",
     "output_type": "stream",
     "text": [
      "[['.', '.', '.'], ['.', '.', '.'], ['.', '.', '.']]\n"
     ]
    }
   ],
   "source": [
    "Board = [[\" \",\".\",\".\"],[\".\",\".\",\".\"],[\".\",\".\",\".\"]]\n",
    "print Board"
   ]
  },
  {
   "cell_type": "code",
   "execution_count": 11,
   "metadata": {
    "collapsed": false
   },
   "outputs": [
    {
     "name": "stdout",
     "output_type": "stream",
     "text": [
      "a \t\t\tb\n"
     ]
    }
   ],
   "source": [
    "print \"a\", \"\\t\\t\\t\", \"b\""
   ]
  },
  {
   "cell_type": "code",
   "execution_count": 13,
   "metadata": {
    "collapsed": false
   },
   "outputs": [],
   "source": [
    "board = [[\".\",\".\",\".\"],[\".\",\".\",\".\"],[\".\",\".\",\".\"]]\n",
    "moveKey = [[\"0\",\"1\",\"2\"],[\"3\",\"4\",\"5\"],[\"6\",\"7\",\"8\"]]"
   ]
  },
  {
   "cell_type": "code",
   "execution_count": 16,
   "metadata": {
    "collapsed": false
   },
   "outputs": [
    {
     "name": "stdout",
     "output_type": "stream",
     "text": [
      "Board: \t\t\t\t\tMoveKey:\n",
      "['.', '.', '.'] \t\t\t['0', '1', '2']\n",
      "['.', '.', '.'] \t\t\t['3', '4', '5']\n",
      "['.', '.', '.'] \t\t\t['6', '7', '8']\n"
     ]
    }
   ],
   "source": [
    "print \"Board:\", \"\\t\\t\\t\\t\\t\", \"MoveKey:\"\n",
    "print board[0], \"\\t\\t\\t\", moveKey[0]\n",
    "print board[1], \"\\t\\t\\t\", moveKey[1]\n",
    "print board[2], \"\\t\\t\\t\", moveKey[2]"
   ]
  },
  {
   "cell_type": "code",
   "execution_count": 41,
   "metadata": {
    "collapsed": false
   },
   "outputs": [
    {
     "name": "stdout",
     "output_type": "stream",
     "text": [
      "AI TURN!\n",
      "AI takes action  4\n",
      "Board: \t\t\t\t\tMoveKey:\n",
      "['.', '.', '.'] \t\t\t['0', '1', '2']\n",
      "['.', 'X', '.'] \t\t\t['3', '4', '5']\n",
      "['.', '.', '.'] \t\t\t['6', '7', '8']\n",
      "YOU TURN! Enter your move: 1\n",
      "Board: \t\t\t\t\tMoveKey:\n",
      "['.', 'X', '.'] \t\t\t['0', '1', '2']\n",
      "['.', 'X', '.'] \t\t\t['3', '4', '5']\n",
      "['.', '.', '.'] \t\t\t['6', '7', '8']\n",
      "AI TURN!\n",
      "AI takes action  7\n",
      "Board: \t\t\t\t\tMoveKey:\n",
      "['.', 'X', '.'] \t\t\t['0', '1', '2']\n",
      "['.', 'X', '.'] \t\t\t['3', '4', '5']\n",
      "['.', 'X', '.'] \t\t\t['6', '7', '8']\n",
      "AI Lose!\n"
     ]
    }
   ],
   "source": [
    "%run solveTicTacToe.py"
   ]
  },
  {
   "cell_type": "code",
   "execution_count": 69,
   "metadata": {
    "collapsed": false
   },
   "outputs": [
    {
     "data": {
      "text/plain": [
       "(array([0, 0, 1, 1]), array([0, 1, 0, 1]))"
      ]
     },
     "execution_count": 69,
     "metadata": {},
     "output_type": "execute_result"
    }
   ],
   "source": [
    "import numpy as np\n",
    "a = [[\".\",3],[1,\".\"]]\n",
    "b = np.where([[\".\",3],[1,\".\"]])\n",
    "b"
   ]
  },
  {
   "cell_type": "code",
   "execution_count": 75,
   "metadata": {
    "collapsed": false
   },
   "outputs": [
    {
     "data": {
      "text/plain": [
       "(array([], dtype=int64),)"
      ]
     },
     "execution_count": 75,
     "metadata": {},
     "output_type": "execute_result"
    }
   ],
   "source": [
    "b = a\n",
    "np.where(b == 1)"
   ]
  },
  {
   "cell_type": "code",
   "execution_count": 73,
   "metadata": {
    "collapsed": false
   },
   "outputs": [
    {
     "data": {
      "text/plain": [
       "(array([2, 2, 2]), array([0, 1, 2]))"
      ]
     },
     "execution_count": 73,
     "metadata": {},
     "output_type": "execute_result"
    }
   ],
   "source": [
    "x = np.arange(9.).reshape(3, 3)\n",
    "np.where( x > 5 )"
   ]
  },
  {
   "cell_type": "code",
   "execution_count": 1,
   "metadata": {
    "collapsed": false
   },
   "outputs": [
    {
     "data": {
      "text/plain": [
       "[(0, 1), (1, 0), (1, 1), (2, 2)]"
      ]
     },
     "execution_count": 1,
     "metadata": {},
     "output_type": "execute_result"
    }
   ],
   "source": [
    "a = [[1,0,1],[0,0,1], [1,1,0]]\n",
    "[(ix,iy) for ix, row in enumerate(a) for iy, i in enumerate(row) if i == 0]"
   ]
  },
  {
   "cell_type": "code",
   "execution_count": null,
   "metadata": {
    "collapsed": true
   },
   "outputs": [],
   "source": [
    "b"
   ]
  },
  {
   "cell_type": "code",
   "execution_count": null,
   "metadata": {
    "collapsed": true
   },
   "outputs": [],
   "source": [
    "%run solveTicTacToe.py"
   ]
  },
  {
   "cell_type": "code",
   "execution_count": 48,
   "metadata": {
    "collapsed": false
   },
   "outputs": [
    {
     "data": {
      "text/plain": [
       "((0, 2),)"
      ]
     },
     "execution_count": 48,
     "metadata": {},
     "output_type": "execute_result"
    }
   ],
   "source": [
    "win = set([(1,0),(2,1),(0,2)])\n",
    "lose = set([(2,1),(1,0),(2,2)])\n",
    "a = win.difference(win.intersection(lose))\n",
    "a[0]"
   ]
  },
  {
   "cell_type": "code",
   "execution_count": null,
   "metadata": {
    "collapsed": true
   },
   "outputs": [],
   "source": []
  }
 ],
 "metadata": {
  "kernelspec": {
   "display_name": "Python 2",
   "language": "python",
   "name": "python2"
  },
  "language_info": {
   "codemirror_mode": {
    "name": "ipython",
    "version": 2
   },
   "file_extension": ".py",
   "mimetype": "text/x-python",
   "name": "python",
   "nbconvert_exporter": "python",
   "pygments_lexer": "ipython2",
   "version": "2.7.11"
  }
 },
 "nbformat": 4,
 "nbformat_minor": 0
}
