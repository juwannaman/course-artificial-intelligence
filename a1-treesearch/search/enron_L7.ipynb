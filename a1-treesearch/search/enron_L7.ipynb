{
 "cells": [
  {
   "cell_type": "code",
   "execution_count": 1,
   "metadata": {
    "collapsed": false
   },
   "outputs": [
    {
     "name": "stdout",
     "output_type": "stream",
     "text": [
      "README.md                \u001b[34mevaluation\u001b[m\u001b[m/              \u001b[34mregression\u001b[m\u001b[m/\r\n",
      "\u001b[34mchoose_your_own\u001b[m\u001b[m/         \u001b[34mfeature_selection\u001b[m\u001b[m/       \u001b[34msvm\u001b[m\u001b[m/\r\n",
      "\u001b[34mdatasets_questions\u001b[m\u001b[m/      \u001b[34mfinal_project\u001b[m\u001b[m/           \u001b[34mtest\u001b[m\u001b[m/\r\n",
      "\u001b[34mdecision_tree\u001b[m\u001b[m/           \u001b[34mk_means\u001b[m\u001b[m/                 \u001b[34mtext_learning\u001b[m\u001b[m/\r\n",
      "enron_L5.ipynb           \u001b[34mmaildir\u001b[m\u001b[m/                 \u001b[34mtools\u001b[m\u001b[m/\r\n",
      "enron_L6.ipynb           \u001b[34mnaive_bayes\u001b[m\u001b[m/             \u001b[34mvalidation\u001b[m\u001b[m/\r\n",
      "enron_L7.ipynb           \u001b[34moutliers\u001b[m\u001b[m/\r\n",
      "enron_mail_20150507.tgz  \u001b[34mpca\u001b[m\u001b[m/\r\n"
     ]
    }
   ],
   "source": [
    "ls"
   ]
  },
  {
   "cell_type": "code",
   "execution_count": 2,
   "metadata": {
    "collapsed": false
   },
   "outputs": [
    {
     "name": "stdout",
     "output_type": "stream",
     "text": [
      "/Users/shuihanyi/Google Drive/Computer Science/Machine Learning/ud120-projects/outliers\n"
     ]
    }
   ],
   "source": [
    "cd outliers/"
   ]
  },
  {
   "cell_type": "code",
   "execution_count": 3,
   "metadata": {
    "collapsed": false
   },
   "outputs": [
    {
     "name": "stdout",
     "output_type": "stream",
     "text": [
      "enron_outliers.py                 outlier_removal_regression.py\r\n",
      "outlier_cleaner.py                practice_outliers_ages.pkl\r\n",
      "outlier_cleaner.pyc               practice_outliers_net_worths.pkl\r\n"
     ]
    }
   ],
   "source": [
    "ls"
   ]
  },
  {
   "cell_type": "code",
   "execution_count": null,
   "metadata": {
    "collapsed": false
   },
   "outputs": [],
   "source": [
    "%run outlier_removal_regression.py"
   ]
  },
  {
   "cell_type": "code",
   "execution_count": null,
   "metadata": {
    "collapsed": false
   },
   "outputs": [],
   "source": [
    "slope"
   ]
  },
  {
   "cell_type": "code",
   "execution_count": null,
   "metadata": {
    "collapsed": true
   },
   "outputs": [],
   "source": [
    "%run enron_outliers.py"
   ]
  },
  {
   "cell_type": "code",
   "execution_count": null,
   "metadata": {
    "collapsed": true
   },
   "outputs": [],
   "source": []
  }
 ],
 "metadata": {
  "kernelspec": {
   "display_name": "Python 2",
   "language": "python",
   "name": "python2"
  },
  "language_info": {
   "codemirror_mode": {
    "name": "ipython",
    "version": 2
   },
   "file_extension": ".py",
   "mimetype": "text/x-python",
   "name": "python",
   "nbconvert_exporter": "python",
   "pygments_lexer": "ipython2",
   "version": "2.7.11"
  }
 },
 "nbformat": 4,
 "nbformat_minor": 0
}
