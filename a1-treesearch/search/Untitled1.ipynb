{
 "cells": [
  {
   "cell_type": "code",
   "execution_count": 1,
   "metadata": {
    "collapsed": true
   },
   "outputs": [],
   "source": [
    "squareArray = [\n",
    "            [\".\", \".\", \".\", \".\", \".\", \".\", \".\", \".\"],\n",
    "            [\".\", \".\", \".\", \".\", \".\", \".\", \".\", \".\"],\n",
    "            [\".\", \".\", \".\", \".\", \".\", \".\", \".\", \".\"],\n",
    "            [\".\", \".\", \".\", \"q\", \".\", \".\", \".\", \".\"],\n",
    "            [\"q\", \".\", \".\", \".\", \"q\", \".\", \".\", \".\"],\n",
    "            [\".\", \"q\", \".\", \".\", \".\", \"q\", \".\", \"q\"],\n",
    "            [\".\", \".\", \"q\", \".\", \".\", \".\", \"q\", \".\"],\n",
    "            [\".\", \".\", \".\", \".\", \".\", \".\", \".\", \".\"],\n",
    "            ]"
   ]
  },
  {
   "cell_type": "code",
   "execution_count": 2,
   "metadata": {
    "collapsed": true
   },
   "outputs": [],
   "source": [
    "attackCounts = 0\n",
    "queenList = []\n",
    "for r in range(0,8):\n",
    "    for c in range(0,8):\n",
    "        if squareArray[r][c] == \"q\":\n",
    "            queenList.append( ( r,c ) )"
   ]
  },
  {
   "cell_type": "code",
   "execution_count": 3,
   "metadata": {
    "collapsed": true
   },
   "outputs": [],
   "source": [
    "row, col = zip(*queenList)"
   ]
  },
  {
   "cell_type": "code",
   "execution_count": 4,
   "metadata": {
    "collapsed": false
   },
   "outputs": [
    {
     "data": {
      "text/plain": [
       "(3, 4, 4, 5, 5, 5, 6, 6)"
      ]
     },
     "execution_count": 4,
     "metadata": {},
     "output_type": "execute_result"
    }
   ],
   "source": [
    "row"
   ]
  },
  {
   "cell_type": "code",
   "execution_count": 5,
   "metadata": {
    "collapsed": false
   },
   "outputs": [
    {
     "data": {
      "text/plain": [
       "(3, 0, 4, 1, 5, 7, 2, 6)"
      ]
     },
     "execution_count": 5,
     "metadata": {},
     "output_type": "execute_result"
    }
   ],
   "source": [
    "col"
   ]
  },
  {
   "cell_type": "code",
   "execution_count": 6,
   "metadata": {
    "collapsed": true
   },
   "outputs": [],
   "source": [
    "## number of queens in the same row\n",
    "rowList = list(row)\n",
    "rowSet = set(rowList)\n",
    "attackRow = len(rowList) - len(list(rowSet))"
   ]
  },
  {
   "cell_type": "code",
   "execution_count": 7,
   "metadata": {
    "collapsed": false
   },
   "outputs": [
    {
     "data": {
      "text/plain": [
       "4"
      ]
     },
     "execution_count": 7,
     "metadata": {},
     "output_type": "execute_result"
    }
   ],
   "source": [
    "attackRow"
   ]
  },
  {
   "cell_type": "code",
   "execution_count": 8,
   "metadata": {
    "collapsed": false
   },
   "outputs": [
    {
     "data": {
      "text/plain": [
       "[3, 4, 4, 5, 5, 5, 6, 6]"
      ]
     },
     "execution_count": 8,
     "metadata": {},
     "output_type": "execute_result"
    }
   ],
   "source": [
    "rowList"
   ]
  },
  {
   "cell_type": "code",
   "execution_count": 9,
   "metadata": {
    "collapsed": false
   },
   "outputs": [
    {
     "data": {
      "text/plain": [
       "{3, 4, 5, 6}"
      ]
     },
     "execution_count": 9,
     "metadata": {},
     "output_type": "execute_result"
    }
   ],
   "source": [
    "rowSet"
   ]
  },
  {
   "cell_type": "code",
   "execution_count": 15,
   "metadata": {
    "collapsed": false
   },
   "outputs": [],
   "source": [
    "colList = list(col)\n",
    "attackDiag = 0\n",
    "for i in range(0,7):\n",
    "    for j in range(i+1,8):\n",
    "        if abs(rowList[j] - rowList[i]) == abs(colList[j] - colList[i]):\n",
    "            attackDiag = attackDiag + 1"
   ]
  },
  {
   "cell_type": "code",
   "execution_count": 16,
   "metadata": {
    "collapsed": false
   },
   "outputs": [
    {
     "data": {
      "text/plain": [
       "12"
      ]
     },
     "execution_count": 16,
     "metadata": {},
     "output_type": "execute_result"
    }
   ],
   "source": [
    "attackDiag"
   ]
  },
  {
   "cell_type": "code",
   "execution_count": 18,
   "metadata": {
    "collapsed": false
   },
   "outputs": [],
   "source": [
    "attackRow = 0\n",
    "for i in range(0,7):\n",
    "    for j in range(i+1,8):\n",
    "        if rowList[j] == rowList[i]:\n",
    "            attackRow = attackRow + 1"
   ]
  },
  {
   "cell_type": "code",
   "execution_count": 19,
   "metadata": {
    "collapsed": false
   },
   "outputs": [
    {
     "data": {
      "text/plain": [
       "5"
      ]
     },
     "execution_count": 19,
     "metadata": {},
     "output_type": "execute_result"
    }
   ],
   "source": [
    "attackRow"
   ]
  },
  {
   "cell_type": "code",
   "execution_count": 85,
   "metadata": {
    "collapsed": false,
    "scrolled": true
   },
   "outputs": [
    {
     "name": "stdout",
     "output_type": "stream",
     "text": [
      "iteration  0\n",
      ". . . . . . . . \n",
      ". . . . . . . . \n",
      ". . . . . . . . \n",
      ". . . q . . . . \n",
      "q . . . q . . . \n",
      ". q . . . q . q \n",
      ". . q . . . q . \n",
      ". . . . . . . . \n",
      "# attacks: 17\n",
      "18 12 14 13 13 12 14 14 \n",
      "14 16 13 15 12 14 12 16 \n",
      "14 12 18 13 15 12 14 14 \n",
      "15 14 14 q 13 16 13 16 \n",
      "q 14 17 15 q 14 16 16 \n",
      "17 q 16 18 15 q 15 q \n",
      "18 14 q 15 15 14 q 16 \n",
      "14 14 13 17 12 14 12 18 \n",
      "# attacks: 17\n",
      "iteration  1\n",
      ". . . . . . . . \n",
      ". . . . . . . . \n",
      ". q . . . . . . \n",
      ". . . q . . . . \n",
      "q . . . q . . . \n",
      ". . . . . q . q \n",
      ". . q . . . q . \n",
      ". . . . . . . . \n",
      "# attacks: 12\n",
      "14 12 10 10 8 8 8 10 \n",
      "11 16 10 11 7 9 7 12 \n",
      "11 q 15 10 10 9 10 11 \n",
      "12 14 11 q 8 12 8 12 \n",
      "q 14 12 12 q 10 11 12 \n",
      "12 17 11 13 10 q 9 q \n",
      "13 14 q 11 10 11 q 12 \n",
      "10 14 9 12 7 10 8 14 \n",
      "# attacks: 12\n",
      "iteration  2\n",
      ". . . . . . . . \n",
      ". . . . . . . . \n",
      ". q . . . . . . \n",
      ". . . q . . . . \n",
      "q . . . . . . . \n",
      ". . . . . q . q \n",
      ". . q . . . q . \n",
      ". . . . q . . . \n",
      "# attacks: 7\n",
      "9 7 6 6 8 4 4 5 \n",
      "7 10 6 7 7 5 3 6 \n",
      "7 q 10 6 10 5 5 6 \n",
      "9 9 7 q 8 7 4 7 \n",
      "q 9 7 7 12 5 6 7 \n",
      "8 12 8 8 10 q 6 q \n",
      "9 9 q 8 10 8 q 7 \n",
      "7 9 6 9 q 7 5 9 \n",
      "# attacks: 7\n",
      "iteration  3\n",
      ". . . . . . . . \n",
      ". . . . . . q . \n",
      ". q . . . . . . \n",
      ". . . q . . . . \n",
      "q . . . . . . . \n",
      ". . . . . q . q \n",
      ". . q . . . . . \n",
      ". . . . q . . . \n",
      "# attacks: 3\n",
      "4 3 3 3 4 2 4 3 \n",
      "4 6 4 5 4 3 q 4 \n",
      "3 q 6 3 6 3 5 4 \n",
      "5 5 4 q 5 4 4 4 \n",
      "q 5 4 5 7 2 6 4 \n",
      "4 8 6 5 6 q 6 q \n",
      "4 5 q 4 5 4 7 3 \n",
      "4 5 3 6 q 3 5 5 \n",
      "# attacks: 3\n",
      "iteration  4\n",
      ". . . . . . . . \n",
      ". . . . . . q . \n",
      ". q . . . . . . \n",
      ". . . q . . . . \n",
      "q . . . . q . . \n",
      ". . . . . . . q \n",
      ". . q . . . . . \n",
      ". . . . q . . . \n",
      "# attacks: 2\n",
      "1 3 2 3 3 2 3 3 \n",
      "2 4 4 5 3 3 q 4 \n",
      "1 q 4 4 5 3 4 5 \n",
      "3 4 3 q 5 4 4 3 \n",
      "q 5 4 6 6 q 5 5 \n",
      "1 6 4 4 5 3 5 q \n",
      "2 4 q 5 3 4 5 4 \n",
      "2 4 3 5 q 3 4 4 \n",
      "# attacks: 2\n",
      "iteration  5\n",
      ". . . . . . . . \n",
      ". . . . . . q . \n",
      "q q . . . . . . \n",
      ". . . q . . . . \n",
      ". . . . . q . . \n",
      ". . . . . . . q \n",
      ". . q . . . . . \n",
      ". . . . q . . . \n",
      "# attacks: 1\n",
      "1 1 3 2 1 2 2 2 \n",
      "2 3 4 3 2 3 q 3 \n",
      "q q 4 4 5 4 4 5 \n",
      "3 2 3 q 4 4 3 2 \n",
      "2 2 4 4 4 q 3 3 \n",
      "1 3 4 4 4 3 4 q \n",
      "2 2 q 4 3 4 4 3 \n",
      "2 2 3 3 q 4 3 3 \n",
      "# attacks: 1\n",
      "Solved: 0 / 1\n"
     ]
    }
   ],
   "source": [
    "%run solveEightQueens.py -l"
   ]
  },
  {
   "cell_type": "code",
   "execution_count": 25,
   "metadata": {
    "collapsed": false
   },
   "outputs": [
    {
     "name": "stdout",
     "output_type": "stream",
     "text": [
      "Starting on 3-13 at 17:35:26\n",
      "\n",
      "Question q1\n",
      "===========\n",
      "\n",
      "*** PASS: test_cases/q1/graph_backtrack.test\n",
      "*** \tsolution:\t\t['1:A->C', '0:C->G']\n",
      "*** \texpanded_states:\t['A', 'D', 'C']\n",
      "*** PASS: test_cases/q1/graph_bfs_vs_dfs.test\n",
      "*** \tsolution:\t\t['2:A->D', '0:D->G']\n",
      "*** \texpanded_states:\t['A', 'D']\n",
      "*** PASS: test_cases/q1/graph_infinite.test\n",
      "*** \tsolution:\t\t['0:A->B', '1:B->C', '1:C->G']\n",
      "*** \texpanded_states:\t['A', 'B', 'C']\n",
      "*** PASS: test_cases/q1/graph_manypaths.test\n",
      "*** \tsolution:\t\t['2:A->B2', '0:B2->C', '0:C->D', '2:D->E2', '0:E2->F', '0:F->G']\n",
      "*** \texpanded_states:\t['A', 'B2', 'C', 'D', 'E2', 'F']\n",
      "*** PASS: test_cases/q1/pacman_1.test\n",
      "*** \tpacman layout:\t\tmediumMaze\n",
      "*** \tsolution length: 130\n",
      "*** \tnodes expanded:\t\t146\n",
      "\n",
      "### Question q1: 2/2 ###\n",
      "\n",
      "\n",
      "Question q2\n",
      "===========\n",
      "\n",
      "*** PASS: test_cases/q2/graph_backtrack.test\n",
      "*** \tsolution:\t\t['1:A->C', '0:C->G']\n",
      "*** \texpanded_states:\t['A', 'B', 'C', 'D']\n",
      "*** PASS: test_cases/q2/graph_bfs_vs_dfs.test\n",
      "*** \tsolution:\t\t['1:A->G']\n",
      "*** \texpanded_states:\t['A', 'B']\n",
      "*** PASS: test_cases/q2/graph_infinite.test\n",
      "*** \tsolution:\t\t['0:A->B', '1:B->C', '1:C->G']\n",
      "*** \texpanded_states:\t['A', 'B', 'C']\n",
      "*** PASS: test_cases/q2/graph_manypaths.test\n",
      "*** \tsolution:\t\t['1:A->C', '0:C->D', '1:D->F', '0:F->G']\n",
      "*** \texpanded_states:\t['A', 'B1', 'C', 'B2', 'D', 'E1', 'F', 'E2']\n",
      "*** PASS: test_cases/q2/pacman_1.test\n",
      "*** \tpacman layout:\t\tmediumMaze\n",
      "*** \tsolution length: 68\n",
      "*** \tnodes expanded:\t\t269\n",
      "\n",
      "### Question q2: 2/2 ###\n",
      "\n",
      "\n",
      "Question q3\n",
      "===========\n",
      "\n",
      "*** PASS: test_cases/q3/graph_backtrack.test\n",
      "*** \tsolution:\t\t['1:A->C', '0:C->G']\n",
      "*** \texpanded_states:\t['A', 'B', 'C', 'D']\n",
      "*** PASS: test_cases/q3/graph_bfs_vs_dfs.test\n",
      "*** \tsolution:\t\t['1:A->G']\n",
      "*** \texpanded_states:\t['A', 'B']\n",
      "*** PASS: test_cases/q3/graph_infinite.test\n",
      "*** \tsolution:\t\t['0:A->B', '1:B->C', '1:C->G']\n",
      "*** \texpanded_states:\t['A', 'B', 'C']\n",
      "*** PASS: test_cases/q3/graph_manypaths.test\n",
      "*** \tsolution:\t\t['1:A->C', '0:C->D', '1:D->F', '0:F->G']\n",
      "*** \texpanded_states:\t['A', 'B1', 'C', 'B2', 'D', 'E1', 'F', 'E2']\n",
      "*** PASS: test_cases/q3/ucs_0_graph.test\n",
      "*** \tsolution:\t\t['Right', 'Down', 'Down']\n",
      "*** \texpanded_states:\t['A', 'B', 'D', 'C', 'G']\n",
      "*** PASS: test_cases/q3/ucs_1_problemC.test\n",
      "*** \tpacman layout:\t\tmediumMaze\n",
      "*** \tsolution length: 68\n",
      "*** \tnodes expanded:\t\t269\n",
      "*** PASS: test_cases/q3/ucs_2_problemE.test\n",
      "*** \tpacman layout:\t\tmediumMaze\n",
      "*** \tsolution length: 74\n",
      "*** \tnodes expanded:\t\t260\n",
      "*** PASS: test_cases/q3/ucs_3_problemW.test\n",
      "*** \tpacman layout:\t\tmediumMaze\n",
      "*** \tsolution length: 152\n",
      "*** \tnodes expanded:\t\t173\n",
      "*** PASS: test_cases/q3/ucs_4_testSearch.test\n",
      "*** \tpacman layout:\t\ttestSearch\n",
      "*** \tsolution length: 7\n",
      "*** \tnodes expanded:\t\t14\n",
      "*** PASS: test_cases/q3/ucs_5_goalAtDequeue.test\n",
      "*** \tsolution:\t\t['1:A->B', '0:B->C', '0:C->G']\n",
      "*** \texpanded_states:\t['A', 'B', 'C']\n",
      "\n",
      "### Question q3: 2/2 ###\n",
      "\n",
      "\n",
      "Question q4\n",
      "===========\n",
      "\n",
      "*** PASS: test_cases/q4/astar_0.test\n",
      "*** \tsolution:\t\t['Right', 'Down', 'Down']\n",
      "*** \texpanded_states:\t['A', 'B', 'D', 'C', 'G']\n",
      "*** PASS: test_cases/q4/astar_1_graph_heuristic.test\n",
      "*** \tsolution:\t\t['0', '0', '2']\n",
      "*** \texpanded_states:\t['S', 'A', 'D', 'C']\n",
      "*** PASS: test_cases/q4/astar_2_manhattan.test\n",
      "*** \tpacman layout:\t\tmediumMaze\n",
      "*** \tsolution length: 68\n",
      "*** \tnodes expanded:\t\t221\n",
      "*** PASS: test_cases/q4/astar_3_goalAtDequeue.test\n",
      "*** \tsolution:\t\t['1:A->B', '0:B->C', '0:C->G']\n",
      "*** \texpanded_states:\t['A', 'B', 'C']\n",
      "*** PASS: test_cases/q4/graph_backtrack.test\n",
      "*** \tsolution:\t\t['1:A->C', '0:C->G']\n",
      "*** \texpanded_states:\t['A', 'B', 'C', 'D']\n",
      "*** PASS: test_cases/q4/graph_manypaths.test\n",
      "*** \tsolution:\t\t['1:A->C', '0:C->D', '1:D->F', '0:F->G']\n",
      "*** \texpanded_states:\t['A', 'B1', 'C', 'B2', 'D', 'E1', 'F', 'E2']\n",
      "\n",
      "### Question q4: 3/3 ###\n",
      "\n",
      "\n",
      "Question q5\n",
      "===========\n",
      "\n",
      "*** PASS: test_cases/q5/corner_tiny_corner.test\n",
      "*** \tpacman layout:\t\ttinyCorner\n",
      "*** \tsolution length:\t\t28\n",
      "\n",
      "### Question q5: 2/2 ###\n",
      "\n",
      "\n",
      "Question q6\n",
      "===========\n",
      "\n",
      "*** PASS: heuristic value less than true cost at start state\n",
      "*** PASS: heuristic value less than true cost at start state\n",
      "*** PASS: heuristic value less than true cost at start state\n",
      "*** PASS: Heuristic resulted in expansion of 901 nodes\n",
      "\n",
      "### Question q6: 3/3 ###\n",
      "\n",
      "\n",
      "Question q7\n",
      "===========\n",
      "\n",
      "*** PASS: test_cases/q7/food_heuristic_1.test\n",
      "*** PASS: test_cases/q7/food_heuristic_10.test\n",
      "*** PASS: test_cases/q7/food_heuristic_11.test\n",
      "*** PASS: test_cases/q7/food_heuristic_12.test\n",
      "*** PASS: test_cases/q7/food_heuristic_13.test\n",
      "*** PASS: test_cases/q7/food_heuristic_14.test\n",
      "*** PASS: test_cases/q7/food_heuristic_15.test\n",
      "*** PASS: test_cases/q7/food_heuristic_16.test\n",
      "*** PASS: test_cases/q7/food_heuristic_17.test\n",
      "*** PASS: test_cases/q7/food_heuristic_2.test\n",
      "*** PASS: test_cases/q7/food_heuristic_3.test\n",
      "*** PASS: test_cases/q7/food_heuristic_4.test\n",
      "*** PASS: test_cases/q7/food_heuristic_5.test\n",
      "*** PASS: test_cases/q7/food_heuristic_6.test\n",
      "*** PASS: test_cases/q7/food_heuristic_7.test\n",
      "*** PASS: test_cases/q7/food_heuristic_8.test\n",
      "*** PASS: test_cases/q7/food_heuristic_9.test\n",
      "*** FAIL: test_cases/q7/food_heuristic_grade_tricky.test\n",
      "*** \texpanded nodes: 9551\n",
      "*** \tthresholds: [15000, 12000, 9000, 7000]\n",
      "\n",
      "### Question q7: 3/4 ###\n",
      "\n",
      "\n",
      "Finished at 17:35:42\n",
      "\n",
      "Provisional grades\n",
      "==================\n",
      "Question q1: 2/2\n",
      "Question q2: 2/2\n",
      "Question q3: 2/2\n",
      "Question q4: 3/3\n",
      "Question q5: 2/2\n",
      "Question q6: 3/3\n",
      "Question q7: 3/4\n",
      "------------------\n",
      "Total: 17/18\n",
      "\n",
      "Your grades are NOT yet registered.  To register your grades, make sure\n",
      "to follow your instructor's guidelines to receive credit on your project.\n",
      "\n"
     ]
    }
   ],
   "source": [
    "%run autograder.py --mute"
   ]
  },
  {
   "cell_type": "code",
   "execution_count": 26,
   "metadata": {
    "collapsed": false
   },
   "outputs": [
    {
     "data": {
      "text/plain": [
       "0"
      ]
     },
     "execution_count": 26,
     "metadata": {},
     "output_type": "execute_result"
    }
   ],
   "source": [
    "n = [1,2,3,4,5]\n",
    "n.index(min(n))"
   ]
  },
  {
   "cell_type": "code",
   "execution_count": 5,
   "metadata": {
    "collapsed": false
   },
   "outputs": [],
   "source": [
    "n = [[2,1,'q',4],[2,3,0,4]]"
   ]
  },
  {
   "cell_type": "code",
   "execution_count": 12,
   "metadata": {
    "collapsed": true
   },
   "outputs": [],
   "source": [
    "import numpy as np"
   ]
  },
  {
   "cell_type": "code",
   "execution_count": 70,
   "metadata": {
    "collapsed": false
   },
   "outputs": [],
   "source": [
    "import random"
   ]
  },
  {
   "cell_type": "code",
   "execution_count": 74,
   "metadata": {
    "collapsed": false
   },
   "outputs": [
    {
     "data": {
      "text/plain": [
       "2"
      ]
     },
     "execution_count": 74,
     "metadata": {},
     "output_type": "execute_result"
    }
   ],
   "source": [
    "random.randint(0,8)"
   ]
  },
  {
   "cell_type": "code",
   "execution_count": 7,
   "metadata": {
    "collapsed": false
   },
   "outputs": [
    {
     "ename": "ValueError",
     "evalue": "invalid literal for int() with base 10: 'q'",
     "output_type": "error",
     "traceback": [
      "\u001b[0;31m---------------------------------------------------------------------------\u001b[0m",
      "\u001b[0;31mValueError\u001b[0m                                Traceback (most recent call last)",
      "\u001b[0;32m<ipython-input-7-f7839ba5c080>\u001b[0m in \u001b[0;36m<module>\u001b[0;34m()\u001b[0m\n\u001b[0;32m----> 1\u001b[0;31m \u001b[0mint\u001b[0m\u001b[0;34m(\u001b[0m\u001b[0;34m'q'\u001b[0m\u001b[0;34m)\u001b[0m\u001b[0;34m\u001b[0m\u001b[0m\n\u001b[0m",
      "\u001b[0;31mValueError\u001b[0m: invalid literal for int() with base 10: 'q'"
     ]
    }
   ],
   "source": [
    "int('q')"
   ]
  },
  {
   "cell_type": "code",
   "execution_count": 18,
   "metadata": {
    "collapsed": false
   },
   "outputs": [],
   "source": [
    "a = np.sort([2,0,1,'q',3])"
   ]
  },
  {
   "cell_type": "code",
   "execution_count": 19,
   "metadata": {
    "collapsed": false
   },
   "outputs": [
    {
     "data": {
      "text/plain": [
       "'0'"
      ]
     },
     "execution_count": 19,
     "metadata": {},
     "output_type": "execute_result"
    }
   ],
   "source": [
    "a[0]"
   ]
  },
  {
   "cell_type": "code",
   "execution_count": 28,
   "metadata": {
    "collapsed": true
   },
   "outputs": [],
   "source": [
    "a = [[2,3],[5,6]]"
   ]
  },
  {
   "cell_type": "code",
   "execution_count": 30,
   "metadata": {
    "collapsed": false
   },
   "outputs": [],
   "source": [
    "b = np.reshape(a,(1,4))"
   ]
  },
  {
   "cell_type": "code",
   "execution_count": 31,
   "metadata": {
    "collapsed": false
   },
   "outputs": [
    {
     "data": {
      "text/plain": [
       "array([[2, 3, 5, 6]])"
      ]
     },
     "execution_count": 31,
     "metadata": {},
     "output_type": "execute_result"
    }
   ],
   "source": [
    "b"
   ]
  },
  {
   "cell_type": "code",
   "execution_count": 36,
   "metadata": {
    "collapsed": true
   },
   "outputs": [],
   "source": [
    "c = [1,2,3,'q']"
   ]
  },
  {
   "cell_type": "code",
   "execution_count": 37,
   "metadata": {
    "collapsed": false
   },
   "outputs": [
    {
     "data": {
      "text/plain": [
       "1"
      ]
     },
     "execution_count": 37,
     "metadata": {},
     "output_type": "execute_result"
    }
   ],
   "source": [
    "min(c)"
   ]
  },
  {
   "cell_type": "code",
   "execution_count": 38,
   "metadata": {
    "collapsed": true
   },
   "outputs": [],
   "source": [
    "d = [[0,2,1,'q'],[2,3,5,'q']]"
   ]
  },
  {
   "cell_type": "code",
   "execution_count": 50,
   "metadata": {
    "collapsed": false
   },
   "outputs": [
    {
     "data": {
      "text/plain": [
       "(array([], dtype=int64),)"
      ]
     },
     "execution_count": 50,
     "metadata": {},
     "output_type": "execute_result"
    }
   ],
   "source": [
    "np.where(d == 1)"
   ]
  },
  {
   "cell_type": "code",
   "execution_count": 48,
   "metadata": {
    "collapsed": false
   },
   "outputs": [
    {
     "data": {
      "text/plain": [
       "array([['0', '2', '1', 'q'],\n",
       "       ['2', '3', '5', 'q']], \n",
       "      dtype='|S21')"
      ]
     },
     "execution_count": 48,
     "metadata": {},
     "output_type": "execute_result"
    }
   ],
   "source": [
    "np.asarray(d)"
   ]
  },
  {
   "cell_type": "code",
   "execution_count": 51,
   "metadata": {
    "collapsed": false
   },
   "outputs": [
    {
     "ename": "SyntaxError",
     "evalue": "invalid syntax (<ipython-input-51-845e57851a73>, line 1)",
     "output_type": "error",
     "traceback": [
      "\u001b[0;36m  File \u001b[0;32m\"<ipython-input-51-845e57851a73>\"\u001b[0;36m, line \u001b[0;32m1\u001b[0m\n\u001b[0;31m    a = ([[1 1 0 0],\u001b[0m\n\u001b[0m             ^\u001b[0m\n\u001b[0;31mSyntaxError\u001b[0m\u001b[0;31m:\u001b[0m invalid syntax\n"
     ]
    }
   ],
   "source": [
    "a = ([[1 1 0 0],\n",
    "  [0 0 1 1],\n",
    "  [0 0 0 0]])"
   ]
  },
  {
   "cell_type": "code",
   "execution_count": 52,
   "metadata": {
    "collapsed": true
   },
   "outputs": [],
   "source": [
    "a = [2,3]"
   ]
  },
  {
   "cell_type": "code",
   "execution_count": 53,
   "metadata": {
    "collapsed": false
   },
   "outputs": [
    {
     "data": {
      "text/plain": [
       "(array([], dtype=int64),)"
      ]
     },
     "execution_count": 53,
     "metadata": {},
     "output_type": "execute_result"
    }
   ],
   "source": [
    "np.where(a == 2)"
   ]
  },
  {
   "cell_type": "code",
   "execution_count": 56,
   "metadata": {
    "collapsed": false
   },
   "outputs": [
    {
     "data": {
      "text/plain": [
       "0"
      ]
     },
     "execution_count": 56,
     "metadata": {},
     "output_type": "execute_result"
    }
   ],
   "source": [
    "a.index(2)"
   ]
  },
  {
   "cell_type": "code",
   "execution_count": 57,
   "metadata": {
    "collapsed": true
   },
   "outputs": [],
   "source": [
    "a = [[2,3],[2,3]]"
   ]
  },
  {
   "cell_type": "code",
   "execution_count": 58,
   "metadata": {
    "collapsed": false
   },
   "outputs": [
    {
     "ename": "ValueError",
     "evalue": "2 is not in list",
     "output_type": "error",
     "traceback": [
      "\u001b[0;31m---------------------------------------------------------------------------\u001b[0m",
      "\u001b[0;31mValueError\u001b[0m                                Traceback (most recent call last)",
      "\u001b[0;32m<ipython-input-58-8e455ff4af22>\u001b[0m in \u001b[0;36m<module>\u001b[0;34m()\u001b[0m\n\u001b[0;32m----> 1\u001b[0;31m \u001b[0ma\u001b[0m\u001b[0;34m.\u001b[0m\u001b[0mindex\u001b[0m\u001b[0;34m(\u001b[0m\u001b[0;36m2\u001b[0m\u001b[0;34m)\u001b[0m\u001b[0;34m\u001b[0m\u001b[0m\n\u001b[0m",
      "\u001b[0;31mValueError\u001b[0m: 2 is not in list"
     ]
    }
   ],
   "source": [
    "a.index(2)"
   ]
  },
  {
   "cell_type": "code",
   "execution_count": null,
   "metadata": {
    "collapsed": true
   },
   "outputs": [],
   "source": []
  }
 ],
 "metadata": {
  "kernelspec": {
   "display_name": "Python 2",
   "language": "python",
   "name": "python2"
  },
  "language_info": {
   "codemirror_mode": {
    "name": "ipython",
    "version": 2
   },
   "file_extension": ".py",
   "mimetype": "text/x-python",
   "name": "python",
   "nbconvert_exporter": "python",
   "pygments_lexer": "ipython2",
   "version": "2.7.11"
  }
 },
 "nbformat": 4,
 "nbformat_minor": 0
}
