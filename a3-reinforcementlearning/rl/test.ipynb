{
 "cells": [
  {
   "cell_type": "code",
   "execution_count": 1,
   "metadata": {
    "collapsed": false
   },
   "outputs": [
    {
     "name": "stdout",
     "output_type": "stream",
     "text": [
      "## Disabling Agents in Manual Mode (-m) ##\n",
      "\n",
      "RUNNING 1 EPISODES\n",
      "\n",
      "BEGINNING EPISODE: 1\n",
      "\n"
     ]
    }
   ],
   "source": [
    "%run gridworld.py -m"
   ]
  },
  {
   "cell_type": "code",
   "execution_count": 1,
   "metadata": {
    "collapsed": false
   },
   "outputs": [
    {
     "name": "stdout",
     "output_type": "stream",
     "text": [
      "Usage: gridworld.py [options]\n",
      "\n",
      "Options:\n",
      "  -h, --help            show this help message and exit\n",
      "  -d DISCOUNT, --discount=DISCOUNT\n",
      "                        Discount on future (default 0.9)\n",
      "  -r R, --livingReward=R\n",
      "                        Reward for living for a time step (default 0.0)\n",
      "  -n P, --noise=P       How often action results in unintended direction\n",
      "                        (default 0.2)\n",
      "  -e E, --epsilon=E     Chance of taking a random action in q-learning\n",
      "                        (default 0.3)\n",
      "  -l P, --learningRate=P\n",
      "                        TD learning rate (default 0.5)\n",
      "  -i K, --iterations=K  Number of rounds of value iteration (default 10)\n",
      "  -k K, --episodes=K    Number of epsiodes of the MDP to run (default 1)\n",
      "  -g G, --grid=G        Grid to use (case sensitive; options are BookGrid,\n",
      "                        BridgeGrid, CliffGrid, MazeGrid, default BookGrid)\n",
      "  -w X, --windowSize=X  Request a window width of X pixels *per grid cell*\n",
      "                        (default 150)\n",
      "  -a A, --agent=A       Agent type (options are 'random', 'value' and 'q',\n",
      "                        default random)\n",
      "  -t, --text            Use text-only ASCII display\n",
      "  -p, --pause           Pause GUI after each time step when running the MDP\n",
      "  -q, --quiet           Skip display of any learning episodes\n",
      "  -s S, --speed=S       Speed of animation, S > 1.0 is faster, 0.0 < S < 1.0\n",
      "                        is slower (default 1.0)\n",
      "  -m, --manual          Manually control agent\n",
      "  -v, --valueSteps      Display each step of value iteration\n"
     ]
    }
   ],
   "source": [
    "%run gridworld.py -h"
   ]
  },
  {
   "cell_type": "code",
   "execution_count": 1,
   "metadata": {
    "collapsed": false
   },
   "outputs": [
    {
     "name": "stdout",
     "output_type": "stream",
     "text": [
      "\n",
      "RUNNING 1 EPISODES\n",
      "\n",
      "BEGINNING EPISODE: 1\n",
      "\n",
      "Started in state: (0, 0)\n",
      "Took action: east\n",
      "Ended in state: (1, 0)\n",
      "Got reward: 0.0\n",
      "\n",
      "Started in state: (1, 0)\n",
      "Took action: south\n",
      "Ended in state: (1, 0)\n",
      "Got reward: 0.0\n",
      "\n",
      "Started in state: (1, 0)\n",
      "Took action: west\n",
      "Ended in state: (0, 0)\n",
      "Got reward: 0.0\n",
      "\n",
      "Started in state: (0, 0)\n",
      "Took action: south\n",
      "Ended in state: (1, 0)\n",
      "Got reward: 0.0\n",
      "\n",
      "Started in state: (1, 0)\n",
      "Took action: south\n",
      "Ended in state: (2, 0)\n",
      "Got reward: 0.0\n",
      "\n",
      "Started in state: (2, 0)\n",
      "Took action: west\n",
      "Ended in state: (2, 0)\n",
      "Got reward: 0.0\n",
      "\n",
      "Started in state: (2, 0)\n",
      "Took action: west\n",
      "Ended in state: (1, 0)\n",
      "Got reward: 0.0\n",
      "\n",
      "Started in state: (1, 0)\n",
      "Took action: south\n",
      "Ended in state: (0, 0)\n",
      "Got reward: 0.0\n",
      "\n",
      "Started in state: (0, 0)\n",
      "Took action: east\n",
      "Ended in state: (1, 0)\n",
      "Got reward: 0.0\n",
      "\n",
      "Started in state: (1, 0)\n",
      "Took action: south\n",
      "Ended in state: (1, 0)\n",
      "Got reward: 0.0\n",
      "\n",
      "Started in state: (1, 0)\n",
      "Took action: north\n",
      "Ended in state: (1, 0)\n",
      "Got reward: 0.0\n",
      "\n",
      "Started in state: (1, 0)\n",
      "Took action: north\n",
      "Ended in state: (1, 0)\n",
      "Got reward: 0.0\n",
      "\n",
      "Started in state: (1, 0)\n",
      "Took action: east\n",
      "Ended in state: (2, 0)\n",
      "Got reward: 0.0\n",
      "\n",
      "Started in state: (2, 0)\n",
      "Took action: south\n",
      "Ended in state: (2, 0)\n",
      "Got reward: 0.0\n",
      "\n",
      "Started in state: (2, 0)\n",
      "Took action: north\n",
      "Ended in state: (2, 0)\n",
      "Got reward: 0.0\n",
      "\n",
      "Started in state: (2, 0)\n",
      "Took action: south\n",
      "Ended in state: (2, 0)\n",
      "Got reward: 0.0\n",
      "\n",
      "Started in state: (2, 0)\n",
      "Took action: south\n",
      "Ended in state: (2, 0)\n",
      "Got reward: 0.0\n",
      "\n",
      "Started in state: (2, 0)\n",
      "Took action: north\n",
      "Ended in state: (3, 0)\n",
      "Got reward: 0.0\n",
      "\n",
      "Started in state: (3, 0)\n",
      "Took action: north\n",
      "Ended in state: (3, 1)\n",
      "Got reward: 0.0\n",
      "\n",
      "Started in state: (3, 1)\n",
      "Took action: west\n",
      "Ended in state: (3, 1)\n",
      "Got reward: 0.0\n",
      "\n",
      "Started in state: (3, 1)\n",
      "Took action: west\n",
      "Ended in state: (3, 1)\n",
      "Got reward: 0.0\n",
      "\n",
      "Started in state: (3, 1)\n",
      "Took action: west\n",
      "Ended in state: (3, 1)\n",
      "Got reward: 0.0\n",
      "\n"
     ]
    }
   ],
   "source": [
    "%run gridworld.py -g MazeGrid"
   ]
  },
  {
   "cell_type": "code",
   "execution_count": null,
   "metadata": {
    "collapsed": false
   },
   "outputs": [],
   "source": [
    "%run gridworld.py -a value -i 5"
   ]
  },
  {
   "cell_type": "code",
   "execution_count": null,
   "metadata": {
    "collapsed": false
   },
   "outputs": [],
   "source": [
    "%run gridworld.py -a value -i 5"
   ]
  },
  {
   "cell_type": "code",
   "execution_count": 2,
   "metadata": {
    "collapsed": false
   },
   "outputs": [
    {
     "data": {
      "text/plain": [
       "8"
      ]
     },
     "execution_count": 2,
     "metadata": {},
     "output_type": "execute_result"
    }
   ],
   "source": [
    "a = [2,3, 8]\n",
    "max(a)"
   ]
  },
  {
   "cell_type": "code",
   "execution_count": null,
   "metadata": {
    "collapsed": false
   },
   "outputs": [],
   "source": [
    "%run autograder.py -q q1"
   ]
  },
  {
   "cell_type": "code",
   "execution_count": null,
   "metadata": {
    "collapsed": true
   },
   "outputs": [],
   "source": [
    "%run gridworld.py -a value -i 100 -g BridgeGrid --discount 0.9 --noise 0.0"
   ]
  },
  {
   "cell_type": "code",
   "execution_count": 2,
   "metadata": {
    "collapsed": false
   },
   "outputs": [
    {
     "name": "stdout",
     "output_type": "stream",
     "text": [
      "Starting on 5-4 at 9:53:45\n",
      "\n",
      "Question q2\n",
      "===========\n",
      "\n",
      "*** PASS: test_cases/q2/1-bridge-grid.test\n",
      "\n",
      "### Question q2: 1/1 ###\n",
      "\n",
      "\n",
      "Finished at 9:53:45\n",
      "\n",
      "Provisional grades\n",
      "==================\n",
      "Question q2: 1/1\n",
      "------------------\n",
      "Total: 1/1\n",
      "\n",
      "Your grades are NOT yet registered.  To register your grades, make sure\n",
      "to follow your instructor's guidelines to receive credit on your project.\n",
      "\n"
     ]
    }
   ],
   "source": [
    "%run autograder.py -q q2"
   ]
  },
  {
   "cell_type": "code",
   "execution_count": 10,
   "metadata": {
    "collapsed": false
   },
   "outputs": [
    {
     "name": "stdout",
     "output_type": "stream",
     "text": [
      "Starting on 5-4 at 10:06:54\n",
      "\n",
      "Question q3\n",
      "===========\n",
      "\n",
      "*** PASS: test_cases/q3/1-question-3.1.test\n",
      "*** PASS: test_cases/q3/2-question-3.2.test\n",
      "*** PASS: test_cases/q3/3-question-3.3.test\n",
      "*** PASS: test_cases/q3/4-question-3.4.test\n",
      "*** PASS: test_cases/q3/5-question-3.5.test\n",
      "\n",
      "### Question q3: 5/5 ###\n",
      "\n",
      "\n",
      "Finished at 10:06:55\n",
      "\n",
      "Provisional grades\n",
      "==================\n",
      "Question q3: 5/5\n",
      "------------------\n",
      "Total: 5/5\n",
      "\n",
      "Your grades are NOT yet registered.  To register your grades, make sure\n",
      "to follow your instructor's guidelines to receive credit on your project.\n",
      "\n"
     ]
    }
   ],
   "source": [
    "%run autograder.py -q q3"
   ]
  },
  {
   "cell_type": "code",
   "execution_count": null,
   "metadata": {
    "collapsed": true
   },
   "outputs": [],
   "source": []
  }
 ],
 "metadata": {
  "kernelspec": {
   "display_name": "Python 2",
   "language": "python",
   "name": "python2"
  },
  "language_info": {
   "codemirror_mode": {
    "name": "ipython",
    "version": 2
   },
   "file_extension": ".py",
   "mimetype": "text/x-python",
   "name": "python",
   "nbconvert_exporter": "python",
   "pygments_lexer": "ipython2",
   "version": "2.7.11"
  }
 },
 "nbformat": 4,
 "nbformat_minor": 0
}
